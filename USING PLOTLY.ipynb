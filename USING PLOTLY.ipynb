{
 "cells": [
  {
   "cell_type": "code",
   "execution_count": 4,
   "metadata": {
    "collapsed": true
   },
   "outputs": [],
   "source": [
    "import plotly \n",
    "plotly.tools.set_credentials_file(username='', api_key='')"
   ]
  },
  {
   "cell_type": "code",
   "execution_count": 5,
   "metadata": {
    "collapsed": true
   },
   "outputs": [],
   "source": [
    "import pandas as pd\n",
    "import numpy as np\n",
    "import scipy as sp\n",
    "import plotly.plotly as py"
   ]
  },
  {
   "cell_type": "code",
   "execution_count": 14,
   "metadata": {},
   "outputs": [],
   "source": [
    "# Get this figure: fig = py.get_figure(\"https://plot.ly/~iqbalhabibie/2/\")\n",
    "# Get this figure's data: data = py.get_figure(\"https://plot.ly/~iqbalhabibie/2/\").get_data()\n",
    "# Add data to this figure: py.plot(Data([Scatter(x=[1, 2], y=[2, 3])]), filename =\"tobacco\", fileopt=\"extend\")\n",
    "# Get y data of first trace: y1 = py.get_figure(\"https://plot.ly/~iqbalhabibie/2/\").get_data()[0][\"y\"]\n",
    "\n",
    "# Get figure documentation: https://plot.ly/python/get-requests/\n",
    "# Add data documentation: https://plot.ly/python/file-options/\n",
    "\n",
    "# If you're using unicode in your file, you may need to specify the encoding.\n",
    "# You can reproduce this figure in Python with the following code!\n",
    "\n",
    "# Learn about API authentication here: https://plot.ly/python/getting-started\n",
    "# Find your api_key here: https://plot.ly/settings/api\n",
    "\n",
    "import plotly.plotly as py\n",
    "from plotly.graph_objs import *\n",
    "py.sign_in(username='iqbalhabibie', api_key='FQot3v794msE9maf6DZO')\n",
    "trace1 = {\n",
    "  \"x\": [4.03, 3.76, 3.77, 3.34, 3.47, 2.92, 3.2, 2.71, 3.53, 4.51, 4.56], \n",
    "  \"y\": [6.47, 6.13, 6.19, 4.89, 5.63, 4.52, 5.89, 4.79, 5.27, 6.08, 4.02], \n",
    "  \"mode\": \"markers\", \n",
    "  \"name\": \"Alcohol\", \n",
    "  \"type\": \"scatter\", \n",
    "  \"uid\": \"b09e60\", \n",
    "  \"xsrc\": \"iqbalhabibie:0:AWFVD0WTUJS7ATC1GJER1OOYIN0HNZR1\", \n",
    "  \"ysrc\": \"iqbalhabibie:0:KXEGQOQCTALYIZVGKWYOUCGTD5Y2K60G\"\n",
    "}\n",
    "data = Data([trace1])\n",
    "layout = {\n",
    "  \"hovermode\": \"closest\", \n",
    "  \"xaxis\": {\n",
    "    \"autorange\": True, \n",
    "    \"range\": [2.59591802317, 4.67408197683], \n",
    "    \"title\": \"Alcohol\", \n",
    "    \"type\": \"linear\"\n",
    "  }, \n",
    "  \"yaxis\": {\n",
    "    \"autorange\": True, \n",
    "    \"range\": [3.84969011725, 6.64030988275], \n",
    "    \"title\": \"Tobacco\", \n",
    "    \"type\": \"linear\"\n",
    "  }\n",
    "}\n",
    "fig = Figure(data=data, layout=layout)\n",
    "plot_url = py.plot(fig)"
   ]
  },
  {
   "cell_type": "code",
   "execution_count": null,
   "metadata": {
    "collapsed": true
   },
   "outputs": [],
   "source": []
  }
 ],
 "metadata": {
  "kernelspec": {
   "display_name": "Python 3",
   "language": "python",
   "name": "python3"
  },
  "language_info": {
   "codemirror_mode": {
    "name": "ipython",
    "version": 3
   },
   "file_extension": ".py",
   "mimetype": "text/x-python",
   "name": "python",
   "nbconvert_exporter": "python",
   "pygments_lexer": "ipython3",
   "version": "3.6.2"
  }
 },
 "nbformat": 4,
 "nbformat_minor": 2
}
